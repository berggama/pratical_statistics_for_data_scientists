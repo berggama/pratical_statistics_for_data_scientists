{
 "cells": [
  {
   "cell_type": "markdown",
   "id": "e05ea7d7",
   "metadata": {},
   "source": [
    "# 4. Regression and Prediction"
   ]
  },
  {
   "cell_type": "markdown",
   "id": "494e4f1b",
   "metadata": {},
   "source": [
    "Talvez o objetivo mais comum da estatística seja responder a questão: Se a variável X é relacionada com a variável Y, como é essa relação e como podemos usar isso para prever Y dado um valor conhecido de X?\n",
    "Outra importante conexão é a deteccão de anomalias, onde a regressão diagnostica, a partir de uma análise dos dados, algum comportamente estranho que não segue a correlação entre as variáveis."
   ]
  },
  {
   "cell_type": "markdown",
   "id": "7597c312",
   "metadata": {
    "ExecuteTime": {
     "end_time": "2022-08-28T23:05:27.201864Z",
     "start_time": "2022-08-28T23:05:27.185871Z"
    }
   },
   "source": [
    "## 4.1 Simples Linear Regression"
   ]
  },
  {
   "cell_type": "markdown",
   "id": "fb625d27",
   "metadata": {},
   "source": [
    "A Regressão Linear modela a relação entre a magnitude entre duas variáveis. Por exemplo, como X cresce, Y também decresce. Ou X cresce, Y decresce. Correlação é outra forma de medir o quão duas variáveis estão correlacionadas. \n",
    "- Regressão: quantifica a natureza da relação.\n",
    "- Correlação: mede a força da associação das duas variáveis.\n"
   ]
  },
  {
   "cell_type": "markdown",
   "id": "14ce5575",
   "metadata": {},
   "source": [
    "### 4.1.1 The Regression Equation"
   ]
  },
  {
   "cell_type": "markdown",
   "id": "be786b7e",
   "metadata": {
    "ExecuteTime": {
     "end_time": "2022-08-28T23:09:46.497416Z",
     "start_time": "2022-08-28T23:09:46.482424Z"
    }
   },
   "source": [
    "A Equação da Regressão Linear estima realmente quando Y vai mudar quando X mudar, de forma linear. Temos, portanto, a Equação da Reta.\n",
    "\n",
    "$ Y = b_0 + b_{1}X $\n",
    "\n",
    "Onde:\n",
    "- $ b_0 $ é o ponto onde a reta intercepta o eixo Y\n",
    "- $ b_1 $ o angulo que a reta está em relação a eixo X\n",
    "- $ Y $ é a variável responsta ou variável dependente.\n",
    "- $ X $ é a feature, variável independente"
   ]
  },
  {
   "cell_type": "markdown",
   "id": "d4fec3e0",
   "metadata": {
    "ExecuteTime": {
     "end_time": "2022-08-28T23:19:35.310666Z",
     "start_time": "2022-08-28T23:19:35.290677Z"
    }
   },
   "source": [
    "Exemplo prático:"
   ]
  },
  {
   "cell_type": "markdown",
   "id": "4afa352b",
   "metadata": {},
   "source": [
    "Analisando os dados de um estudo que procura relacionar os anos que trabalhadores passaram expostos a pó de algodão (Exposure) com suas respectivas capacidades pulmonares (PEFR - \"peak expiratory flow rate\"), como o PEFR se relaciona com o Exposure?"
   ]
  },
  {
   "cell_type": "code",
   "execution_count": 100,
   "id": "42be22a2",
   "metadata": {
    "ExecuteTime": {
     "end_time": "2022-08-31T03:41:40.186165Z",
     "start_time": "2022-08-31T03:40:55.850524Z"
    }
   },
   "outputs": [],
   "source": [
    "import pandas as pd\n",
    "import seaborn as sns\n",
    "from sklearn.linear_model import LinearRegression\n",
    "from sklearn.metrics import mean_squared_error, mean_absolute_error, r2_score\n",
    "from bokeh.plotting import figure, show, output_file\n",
    "import matplotlib.pyplot as plt\n",
    "import numpy as np\n",
    "import statsmodels.api as sm\n",
    "import statsmodels.formula.api as smf\n",
    "from statsmodels.stats.outliers_influence import OLSInfluence"
   ]
  },
  {
   "cell_type": "code",
   "execution_count": 12,
   "id": "090d3baa",
   "metadata": {
    "ExecuteTime": {
     "end_time": "2022-08-28T23:17:26.425672Z",
     "start_time": "2022-08-28T23:17:26.071018Z"
    }
   },
   "outputs": [
    {
     "data": {
      "text/html": [
       "<div>\n",
       "<style scoped>\n",
       "    .dataframe tbody tr th:only-of-type {\n",
       "        vertical-align: middle;\n",
       "    }\n",
       "\n",
       "    .dataframe tbody tr th {\n",
       "        vertical-align: top;\n",
       "    }\n",
       "\n",
       "    .dataframe thead th {\n",
       "        text-align: right;\n",
       "    }\n",
       "</style>\n",
       "<table border=\"1\" class=\"dataframe\">\n",
       "  <thead>\n",
       "    <tr style=\"text-align: right;\">\n",
       "      <th></th>\n",
       "      <th>PEFR</th>\n",
       "      <th>Exposure</th>\n",
       "    </tr>\n",
       "  </thead>\n",
       "  <tbody>\n",
       "    <tr>\n",
       "      <th>0</th>\n",
       "      <td>390</td>\n",
       "      <td>0</td>\n",
       "    </tr>\n",
       "    <tr>\n",
       "      <th>1</th>\n",
       "      <td>410</td>\n",
       "      <td>0</td>\n",
       "    </tr>\n",
       "    <tr>\n",
       "      <th>2</th>\n",
       "      <td>430</td>\n",
       "      <td>0</td>\n",
       "    </tr>\n",
       "    <tr>\n",
       "      <th>3</th>\n",
       "      <td>460</td>\n",
       "      <td>0</td>\n",
       "    </tr>\n",
       "    <tr>\n",
       "      <th>4</th>\n",
       "      <td>420</td>\n",
       "      <td>1</td>\n",
       "    </tr>\n",
       "  </tbody>\n",
       "</table>\n",
       "</div>"
      ],
      "text/plain": [
       "   PEFR  Exposure\n",
       "0   390         0\n",
       "1   410         0\n",
       "2   430         0\n",
       "3   460         0\n",
       "4   420         1"
      ]
     },
     "execution_count": 12,
     "metadata": {},
     "output_type": "execute_result"
    }
   ],
   "source": [
    "data = pd.read_csv('https://raw.githubusercontent.com/gedeck/practical-statistics-for-data-scientists/master/data/LungDisease.csv')\n",
    "data.head()"
   ]
  },
  {
   "cell_type": "code",
   "execution_count": 13,
   "id": "1d0812d5",
   "metadata": {
    "ExecuteTime": {
     "end_time": "2022-08-28T23:17:52.917772Z",
     "start_time": "2022-08-28T23:17:52.565489Z"
    }
   },
   "outputs": [
    {
     "data": {
      "image/png": "[encoded data removed]",
      "text/plain": [
       "<Figure size 432x288 with 1 Axes>"
      ]
     },
     "metadata": {
      "needs_background": "light"
     },
     "output_type": "display_data"
    }
   ],
   "source": [
    "ax = sns.scatterplot(x=data['Exposure'], y=data['PEFR'])"
   ]
  },
  {
   "cell_type": "markdown",
   "id": "2a82031b",
   "metadata": {
    "ExecuteTime": {
     "end_time": "2022-08-28T23:20:10.892853Z",
     "start_time": "2022-08-28T23:20:10.876860Z"
    }
   },
   "source": [
    "Olhando o gráfico é difícil informar que temos uma relação entre as variáveis. Aplicando um regressão linear para tentar achar a melhor forma de entender o comportamento dos dados, temos que a equação da reta é:\n",
    "\n",
    "$ PEFR = b_0 + b_{1}Exposure $\n",
    "\n",
    "Criando um simples modelo de regressão para entender a relação:"
   ]
  },
  {
   "cell_type": "code",
   "execution_count": 31,
   "id": "4258b321",
   "metadata": {
    "ExecuteTime": {
     "end_time": "2022-08-29T00:05:28.077485Z",
     "start_time": "2022-08-29T00:05:28.048523Z"
    }
   },
   "outputs": [
    {
     "name": "stdout",
     "output_type": "stream",
     "text": [
      "Coeficiente b_0 = 424.58\n",
      "Coeficiente b_1 = -4.18\n"
     ]
    }
   ],
   "source": [
    "#selecionando as variáveis X e Y\n",
    "X = data[['Exposure']]\n",
    "y = data['PEFR']\n",
    "\n",
    "#criando um simples modelo de regressão\n",
    "lm = LinearRegression()\n",
    "lm.fit(X,y)\n",
    "yp = lm.predict(X)\n",
    "\n",
    "print(f'Coeficiente b_0 = {lm.intercept_:.2f}')\n",
    "print(f'Coeficiente b_1 = {lm.coef_[0]:.2f}')"
   ]
  },
  {
   "cell_type": "markdown",
   "id": "766fa73f",
   "metadata": {},
   "source": [
    "Ou seja, a equação da reta fica:\n",
    "\n",
    "$ PEFR = 424.58 - 4.18(Exposure)$"
   ]
  },
  {
   "cell_type": "markdown",
   "id": "0d3c7d42",
   "metadata": {
    "ExecuteTime": {
     "end_time": "2022-08-29T00:04:57.266769Z",
     "start_time": "2022-08-29T00:04:57.244785Z"
    }
   },
   "source": [
    "Traçando no gráfico:"
   ]
  },
  {
   "cell_type": "code",
   "execution_count": 53,
   "id": "6a57300c",
   "metadata": {
    "ExecuteTime": {
     "end_time": "2022-08-29T14:33:24.455903Z",
     "start_time": "2022-08-29T14:33:23.727285Z"
    }
   },
   "outputs": [
    {
     "data": {
      "image/png": "[encoded data removed]",
      "text/plain": [
       "<Figure size 432x288 with 1 Axes>"
      ]
     },
     "metadata": {
      "needs_background": "light"
     },
     "output_type": "display_data"
    }
   ],
   "source": [
    "ax = sns.lineplot(x=data['Exposure'], y=yp, color = 'red', label='PEFR Atual')\n",
    "ax = sns.scatterplot(x=data['Exposure'], y=data['PEFR'], label='PEFR Predito')"
   ]
  },
  {
   "cell_type": "markdown",
   "id": "31f61e34",
   "metadata": {},
   "source": [
    "Pelo gráfico acima, nós vemos que há um *gap* entre o predito, em vermelho, e os dados reais. Estatisticamente essa diferença é chamada de resíduos ou erro e é usado nos cálculos do RMSE (Raiz quadrada do erro-médio) e MAE (Erro médio absoluto). *Scikit-learn* nos fornece uma biblioteca de métricas para calcular esses valores."
   ]
  },
  {
   "cell_type": "code",
   "execution_count": 95,
   "id": "607ab869",
   "metadata": {
    "ExecuteTime": {
     "end_time": "2022-08-31T03:30:30.648173Z",
     "start_time": "2022-08-31T03:30:30.635186Z"
    }
   },
   "outputs": [
    {
     "name": "stdout",
     "output_type": "stream",
     "text": [
      "MAE = 150660.91\n",
      "RMSE = 261220.20\n"
     ]
    }
   ],
   "source": [
    "MAE = mean_absolute_error(y,yp)\n",
    "RMSE = np.sqrt(mean_squared_error(y,yp))\n",
    "\n",
    "print(f'MAE = {MAE:.2f}')\n",
    "print(f'RMSE = {RMSE:.2f}')"
   ]
  },
  {
   "cell_type": "markdown",
   "id": "f8cf7d99",
   "metadata": {},
   "source": [
    "O método de minimizar a Soma dos Quadrados dos Resíduos (RSS) é conhecido como Regressão Least Squares ou Regressão Ordinary Least Squares (OLS)"
   ]
  },
  {
   "cell_type": "markdown",
   "id": "9c391d15",
   "metadata": {},
   "source": [
    "Historicamente, o uso primário da regressão é indicar uma suposta linha que relacione a variável resposta com a variável independente, tendo como objetivo entender a relação e usar os dados para explicar isso, conseguindo prever resultados futuros. Porém, se analisarmos algumas situações, podemos ver que a regressão é utilizada também para explicar fenomenos/relações e não apenas para prever. Ou seja, podemos usar esse a Regressão Linear para realiar análises descritivas ou diagnósticas "
   ]
  },
  {
   "cell_type": "markdown",
   "id": "4c713336",
   "metadata": {},
   "source": [
    "**Importante** : A equação do modelo de regressão indica uma correlação entre as variáveis, e não uma situação de causa e efeito."
   ]
  },
  {
   "cell_type": "markdown",
   "id": "9dff7453",
   "metadata": {
    "ExecuteTime": {
     "end_time": "2022-08-31T02:09:17.842452Z",
     "start_time": "2022-08-31T02:09:17.829481Z"
    }
   },
   "source": [
    "## 4.2 Multiple Linear Regression"
   ]
  },
  {
   "cell_type": "markdown",
   "id": "19fccac0",
   "metadata": {
    "ExecuteTime": {
     "end_time": "2022-08-31T02:10:43.335707Z",
     "start_time": "2022-08-31T02:10:42.953069Z"
    }
   },
   "source": [
    "A equação da reta anterior é usada para quando temos apenas uma variável independente, ou seja, uma única feature. Para problemas mais complexos com várias features utilizamos a seguinte equação:\n",
    "\n",
    "$ Y = b_0 + b_{1}X_{1} + + b_{2}X_{2} +  ... + b_{p}X_{p} + e $\n",
    "\n",
    "Agora, no lugar de uma simples linha, nós temos um modelo linear - a relação entre cada coeficiente e sua feature é linear.\n",
    "\n",
    "Exemplo:\n",
    "\n",
    "Um exemplo do uso de regressão é para estimar o preço de casas, tendo como objetivo saber quais seus respectivos impostos/taxas. Segue abaixo o dataset com essas informações:"
   ]
  },
  {
   "cell_type": "code",
   "execution_count": 67,
   "id": "806b5df9",
   "metadata": {
    "ExecuteTime": {
     "end_time": "2022-08-31T02:22:36.967679Z",
     "start_time": "2022-08-31T02:22:34.115934Z"
    }
   },
   "outputs": [
    {
     "data": {
      "text/html": [
       "<div>\n",
       "<style scoped>\n",
       "    .dataframe tbody tr th:only-of-type {\n",
       "        vertical-align: middle;\n",
       "    }\n",
       "\n",
       "    .dataframe tbody tr th {\n",
       "        vertical-align: top;\n",
       "    }\n",
       "\n",
       "    .dataframe thead th {\n",
       "        text-align: right;\n",
       "    }\n",
       "</style>\n",
       "<table border=\"1\" class=\"dataframe\">\n",
       "  <thead>\n",
       "    <tr style=\"text-align: right;\">\n",
       "      <th></th>\n",
       "      <th>DocumentDate</th>\n",
       "      <th>SalePrice</th>\n",
       "      <th>PropertyID</th>\n",
       "      <th>PropertyType</th>\n",
       "      <th>ym</th>\n",
       "      <th>zhvi_px</th>\n",
       "      <th>zhvi_idx</th>\n",
       "      <th>AdjSalePrice</th>\n",
       "      <th>NbrLivingUnits</th>\n",
       "      <th>SqFtLot</th>\n",
       "      <th>...</th>\n",
       "      <th>Bathrooms</th>\n",
       "      <th>Bedrooms</th>\n",
       "      <th>BldgGrade</th>\n",
       "      <th>YrBuilt</th>\n",
       "      <th>YrRenovated</th>\n",
       "      <th>TrafficNoise</th>\n",
       "      <th>LandVal</th>\n",
       "      <th>ImpsVal</th>\n",
       "      <th>ZipCode</th>\n",
       "      <th>NewConstruction</th>\n",
       "    </tr>\n",
       "  </thead>\n",
       "  <tbody>\n",
       "    <tr>\n",
       "      <th>1</th>\n",
       "      <td>2014-09-16</td>\n",
       "      <td>280000</td>\n",
       "      <td>1000102</td>\n",
       "      <td>Multiplex</td>\n",
       "      <td>2014-09-01</td>\n",
       "      <td>405100</td>\n",
       "      <td>0.930836</td>\n",
       "      <td>300805.0</td>\n",
       "      <td>2</td>\n",
       "      <td>9373</td>\n",
       "      <td>...</td>\n",
       "      <td>3.00</td>\n",
       "      <td>6</td>\n",
       "      <td>7</td>\n",
       "      <td>1991</td>\n",
       "      <td>0</td>\n",
       "      <td>0</td>\n",
       "      <td>70000</td>\n",
       "      <td>229000</td>\n",
       "      <td>98002</td>\n",
       "      <td>False</td>\n",
       "    </tr>\n",
       "    <tr>\n",
       "      <th>2</th>\n",
       "      <td>2006-06-16</td>\n",
       "      <td>1000000</td>\n",
       "      <td>1200013</td>\n",
       "      <td>Single Family</td>\n",
       "      <td>2006-06-01</td>\n",
       "      <td>404400</td>\n",
       "      <td>0.929228</td>\n",
       "      <td>1076162.0</td>\n",
       "      <td>1</td>\n",
       "      <td>20156</td>\n",
       "      <td>...</td>\n",
       "      <td>3.75</td>\n",
       "      <td>4</td>\n",
       "      <td>10</td>\n",
       "      <td>2005</td>\n",
       "      <td>0</td>\n",
       "      <td>0</td>\n",
       "      <td>203000</td>\n",
       "      <td>590000</td>\n",
       "      <td>98166</td>\n",
       "      <td>True</td>\n",
       "    </tr>\n",
       "    <tr>\n",
       "      <th>3</th>\n",
       "      <td>2007-01-29</td>\n",
       "      <td>745000</td>\n",
       "      <td>1200019</td>\n",
       "      <td>Single Family</td>\n",
       "      <td>2007-01-01</td>\n",
       "      <td>425600</td>\n",
       "      <td>0.977941</td>\n",
       "      <td>761805.0</td>\n",
       "      <td>1</td>\n",
       "      <td>26036</td>\n",
       "      <td>...</td>\n",
       "      <td>1.75</td>\n",
       "      <td>4</td>\n",
       "      <td>8</td>\n",
       "      <td>1947</td>\n",
       "      <td>0</td>\n",
       "      <td>0</td>\n",
       "      <td>183000</td>\n",
       "      <td>275000</td>\n",
       "      <td>98166</td>\n",
       "      <td>False</td>\n",
       "    </tr>\n",
       "    <tr>\n",
       "      <th>4</th>\n",
       "      <td>2008-02-25</td>\n",
       "      <td>425000</td>\n",
       "      <td>2800016</td>\n",
       "      <td>Single Family</td>\n",
       "      <td>2008-02-01</td>\n",
       "      <td>418400</td>\n",
       "      <td>0.961397</td>\n",
       "      <td>442065.0</td>\n",
       "      <td>1</td>\n",
       "      <td>8618</td>\n",
       "      <td>...</td>\n",
       "      <td>3.75</td>\n",
       "      <td>5</td>\n",
       "      <td>7</td>\n",
       "      <td>1966</td>\n",
       "      <td>0</td>\n",
       "      <td>0</td>\n",
       "      <td>104000</td>\n",
       "      <td>229000</td>\n",
       "      <td>98168</td>\n",
       "      <td>False</td>\n",
       "    </tr>\n",
       "    <tr>\n",
       "      <th>5</th>\n",
       "      <td>2013-03-29</td>\n",
       "      <td>240000</td>\n",
       "      <td>2800024</td>\n",
       "      <td>Single Family</td>\n",
       "      <td>2013-03-01</td>\n",
       "      <td>351600</td>\n",
       "      <td>0.807904</td>\n",
       "      <td>297065.0</td>\n",
       "      <td>1</td>\n",
       "      <td>8620</td>\n",
       "      <td>...</td>\n",
       "      <td>1.75</td>\n",
       "      <td>4</td>\n",
       "      <td>7</td>\n",
       "      <td>1948</td>\n",
       "      <td>0</td>\n",
       "      <td>0</td>\n",
       "      <td>104000</td>\n",
       "      <td>205000</td>\n",
       "      <td>98168</td>\n",
       "      <td>False</td>\n",
       "    </tr>\n",
       "  </tbody>\n",
       "</table>\n",
       "<p>5 rows × 22 columns</p>\n",
       "</div>"
      ],
      "text/plain": [
       "  DocumentDate  SalePrice  PropertyID   PropertyType          ym  zhvi_px  \\\n",
       "1   2014-09-16     280000     1000102      Multiplex  2014-09-01   405100   \n",
       "2   2006-06-16    1000000     1200013  Single Family  2006-06-01   404400   \n",
       "3   2007-01-29     745000     1200019  Single Family  2007-01-01   425600   \n",
       "4   2008-02-25     425000     2800016  Single Family  2008-02-01   418400   \n",
       "5   2013-03-29     240000     2800024  Single Family  2013-03-01   351600   \n",
       "\n",
       "   zhvi_idx  AdjSalePrice  NbrLivingUnits  SqFtLot  ...  Bathrooms  Bedrooms  \\\n",
       "1  0.930836      300805.0               2     9373  ...       3.00         6   \n",
       "2  0.929228     1076162.0               1    20156  ...       3.75         4   \n",
       "3  0.977941      761805.0               1    26036  ...       1.75         4   \n",
       "4  0.961397      442065.0               1     8618  ...       3.75         5   \n",
       "5  0.807904      297065.0               1     8620  ...       1.75         4   \n",
       "\n",
       "   BldgGrade  YrBuilt  YrRenovated  TrafficNoise  LandVal  ImpsVal  ZipCode  \\\n",
       "1          7     1991            0             0    70000   229000    98002   \n",
       "2         10     2005            0             0   203000   590000    98166   \n",
       "3          8     1947            0             0   183000   275000    98166   \n",
       "4          7     1966            0             0   104000   229000    98168   \n",
       "5          7     1948            0             0   104000   205000    98168   \n",
       "\n",
       "   NewConstruction  \n",
       "1            False  \n",
       "2             True  \n",
       "3            False  \n",
       "4            False  \n",
       "5            False  \n",
       "\n",
       "[5 rows x 22 columns]"
      ]
     },
     "execution_count": 67,
     "metadata": {},
     "output_type": "execute_result"
    }
   ],
   "source": [
    "dataframe = pd.read_csv('https://raw.githubusercontent.com/gedeck/practical-statistics-for-data-scientists/master/data/house_sales.csv', sep='\\t')\n",
    "dataframe.head()"
   ]
  },
  {
   "cell_type": "markdown",
   "id": "08946721",
   "metadata": {
    "ExecuteTime": {
     "end_time": "2022-08-31T03:03:01.514528Z",
     "start_time": "2022-08-31T03:03:01.495535Z"
    }
   },
   "source": [
    "O objetivo nesse caso será prever qual será o preço ajustado, partindo de outras features"
   ]
  },
  {
   "cell_type": "code",
   "execution_count": 71,
   "id": "a537c2e3",
   "metadata": {
    "ExecuteTime": {
     "end_time": "2022-08-31T03:04:11.213859Z",
     "start_time": "2022-08-31T03:04:11.144806Z"
    }
   },
   "outputs": [
    {
     "data": {
      "text/plain": [
       "Index(['DocumentDate', 'SalePrice', 'PropertyID', 'PropertyType', 'ym',\n",
       "       'zhvi_px', 'zhvi_idx', 'AdjSalePrice', 'NbrLivingUnits', 'SqFtLot',\n",
       "       'SqFtTotLiving', 'SqFtFinBasement', 'Bathrooms', 'Bedrooms',\n",
       "       'BldgGrade', 'YrBuilt', 'YrRenovated', 'TrafficNoise', 'LandVal',\n",
       "       'ImpsVal', 'ZipCode', 'NewConstruction'],\n",
       "      dtype='object')"
      ]
     },
     "execution_count": 71,
     "metadata": {},
     "output_type": "execute_result"
    }
   ],
   "source": [
    "dataframe.columns"
   ]
  },
  {
   "cell_type": "code",
   "execution_count": 73,
   "id": "70c54279",
   "metadata": {
    "ExecuteTime": {
     "end_time": "2022-08-31T03:06:47.069317Z",
     "start_time": "2022-08-31T03:06:47.045329Z"
    }
   },
   "outputs": [
    {
     "data": {
      "text/html": [
       "<div>\n",
       "<style scoped>\n",
       "    .dataframe tbody tr th:only-of-type {\n",
       "        vertical-align: middle;\n",
       "    }\n",
       "\n",
       "    .dataframe tbody tr th {\n",
       "        vertical-align: top;\n",
       "    }\n",
       "\n",
       "    .dataframe thead th {\n",
       "        text-align: right;\n",
       "    }\n",
       "</style>\n",
       "<table border=\"1\" class=\"dataframe\">\n",
       "  <thead>\n",
       "    <tr style=\"text-align: right;\">\n",
       "      <th></th>\n",
       "      <th>AdjSalePrice</th>\n",
       "      <th>SqFtLot</th>\n",
       "      <th>SqFtTotLiving</th>\n",
       "      <th>Bathrooms</th>\n",
       "      <th>Bedrooms</th>\n",
       "      <th>BldgGrade</th>\n",
       "    </tr>\n",
       "  </thead>\n",
       "  <tbody>\n",
       "    <tr>\n",
       "      <th>1</th>\n",
       "      <td>300805.0</td>\n",
       "      <td>9373</td>\n",
       "      <td>2400</td>\n",
       "      <td>3.00</td>\n",
       "      <td>6</td>\n",
       "      <td>7</td>\n",
       "    </tr>\n",
       "    <tr>\n",
       "      <th>2</th>\n",
       "      <td>1076162.0</td>\n",
       "      <td>20156</td>\n",
       "      <td>3764</td>\n",
       "      <td>3.75</td>\n",
       "      <td>4</td>\n",
       "      <td>10</td>\n",
       "    </tr>\n",
       "    <tr>\n",
       "      <th>3</th>\n",
       "      <td>761805.0</td>\n",
       "      <td>26036</td>\n",
       "      <td>2060</td>\n",
       "      <td>1.75</td>\n",
       "      <td>4</td>\n",
       "      <td>8</td>\n",
       "    </tr>\n",
       "    <tr>\n",
       "      <th>4</th>\n",
       "      <td>442065.0</td>\n",
       "      <td>8618</td>\n",
       "      <td>3200</td>\n",
       "      <td>3.75</td>\n",
       "      <td>5</td>\n",
       "      <td>7</td>\n",
       "    </tr>\n",
       "    <tr>\n",
       "      <th>5</th>\n",
       "      <td>297065.0</td>\n",
       "      <td>8620</td>\n",
       "      <td>1720</td>\n",
       "      <td>1.75</td>\n",
       "      <td>4</td>\n",
       "      <td>7</td>\n",
       "    </tr>\n",
       "  </tbody>\n",
       "</table>\n",
       "</div>"
      ],
      "text/plain": [
       "   AdjSalePrice  SqFtLot  SqFtTotLiving  Bathrooms  Bedrooms  BldgGrade\n",
       "1      300805.0     9373           2400       3.00         6          7\n",
       "2     1076162.0    20156           3764       3.75         4         10\n",
       "3      761805.0    26036           2060       1.75         4          8\n",
       "4      442065.0     8618           3200       3.75         5          7\n",
       "5      297065.0     8620           1720       1.75         4          7"
      ]
     },
     "execution_count": 73,
     "metadata": {},
     "output_type": "execute_result"
    }
   ],
   "source": [
    "# Selecionando as features\n",
    "features = ['AdjSalePrice', 'SqFtLot', 'SqFtTotLiving', 'Bathrooms', 'Bedrooms', 'BldgGrade']\n",
    "dataframe = dataframe[features]\n",
    "dataframe.head()"
   ]
  },
  {
   "cell_type": "code",
   "execution_count": 75,
   "id": "aaac5cd7",
   "metadata": {
    "ExecuteTime": {
     "end_time": "2022-08-31T03:09:13.717165Z",
     "start_time": "2022-08-31T03:09:13.376056Z"
    }
   },
   "outputs": [
    {
     "data": {
      "text/plain": [
       "AdjSalePrice     0\n",
       "SqFtLot          0\n",
       "SqFtTotLiving    0\n",
       "Bathrooms        0\n",
       "Bedrooms         0\n",
       "BldgGrade        0\n",
       "dtype: int64"
      ]
     },
     "execution_count": 75,
     "metadata": {},
     "output_type": "execute_result"
    }
   ],
   "source": [
    "# Verificando a existência de valores nulos\n",
    "dataframe.isnull().sum()"
   ]
  },
  {
   "cell_type": "code",
   "execution_count": 76,
   "id": "01cb1ac3",
   "metadata": {
    "ExecuteTime": {
     "end_time": "2022-08-31T03:09:45.287634Z",
     "start_time": "2022-08-31T03:09:45.192325Z"
    }
   },
   "outputs": [
    {
     "data": {
      "text/plain": [
       "AdjSalePrice     float64\n",
       "SqFtLot            int64\n",
       "SqFtTotLiving      int64\n",
       "Bathrooms        float64\n",
       "Bedrooms           int64\n",
       "BldgGrade          int64\n",
       "dtype: object"
      ]
     },
     "execution_count": 76,
     "metadata": {},
     "output_type": "execute_result"
    }
   ],
   "source": [
    "# Verificando os tipos dos dados\n",
    "dataframe.dtypes"
   ]
  },
  {
   "cell_type": "markdown",
   "id": "688966ac",
   "metadata": {},
   "source": [
    "Como verificado, não temos valores nulos no dataset e todas os dados estão com um tipo adequado. Partindo agora para calcular os coeficientes da equação:"
   ]
  },
  {
   "cell_type": "code",
   "execution_count": 103,
   "id": "addeba03",
   "metadata": {
    "ExecuteTime": {
     "end_time": "2022-08-31T03:44:45.087068Z",
     "start_time": "2022-08-31T03:44:45.053086Z"
    }
   },
   "outputs": [
    {
     "name": "stdout",
     "output_type": "stream",
     "text": [
      "Coeficiente b_0 (intercepto) = -521871.37\n",
      "Coeficiente b_1 (SqFtLot) = -0.06\n",
      "Coeficiente b_1 (SqFtTotLiving) = 228.83\n",
      "Coeficiente b_1 (Bathrooms) = -19442.84\n",
      "Coeficiente b_1 (Bedrooms) = -47769.96\n",
      "Coeficiente b_1 (BldgGrade) = 106106.96\n"
     ]
    }
   ],
   "source": [
    "# Selecionando as variáveis X e y\n",
    "y = dataframe['AdjSalePrice']\n",
    "X = dataframe[['SqFtLot', 'SqFtTotLiving', 'Bathrooms', 'Bedrooms', 'BldgGrade']]\n",
    "\n",
    "#criando um simples modelo de regressão\n",
    "lm = LinearRegression()\n",
    "lm.fit(X,y)\n",
    "yp = lm.predict(X)\n",
    "\n",
    "print(f'Coeficiente b_0 (intercepto) = {lm.intercept_:.2f}')\n",
    "\n",
    "for name, coef in zip(X.columns, lm.coef_):\n",
    "    print(f'Coeficiente b_1 ({name}) = {coef:.2f}')"
   ]
  },
  {
   "cell_type": "markdown",
   "id": "0bbb6612",
   "metadata": {},
   "source": [
    "Ou seja, a equação linear que \"descreve\" o comportamento do preço é:\n",
    "\n",
    "$ Y =-521871.37-0.06(SqFtLot)+228.83(SqFtTotLiving)-19442.84(Bathrooms)+-47769.96(Bedrooms)+106106.96(BldgGrade) + e $\n",
    "\n",
    "Calculando o RMSE e o MAE para entender a qualidade do modelo (é mais útil quando comparamos com outros modelos). Podemos também Calcular o $ R^{2} $, que varia de 0 a 1 e calcula a proporção com que os dados preditos estão coerentes com os valores reais. É bastante útil na regressão para entender quão bem o modelo performou."
   ]
  },
  {
   "cell_type": "code",
   "execution_count": 98,
   "id": "a2b40890",
   "metadata": {
    "ExecuteTime": {
     "end_time": "2022-08-31T03:36:18.718299Z",
     "start_time": "2022-08-31T03:36:18.704308Z"
    }
   },
   "outputs": [
    {
     "name": "stdout",
     "output_type": "stream",
     "text": [
      "MAE = 150660.91\n",
      "RMSE = 261220.20\n",
      "R_2 = 0.54\n"
     ]
    }
   ],
   "source": [
    "MAE = mean_absolute_error(y,yp)\n",
    "RMSE = np.sqrt(mean_squared_error(y,yp))\n",
    "R_2 = r2_score(y, yp)\n",
    "\n",
    "print(f'MAE = {MAE:.2f}')\n",
    "print(f'RMSE = {RMSE:.2f}')\n",
    "print(f'R_2 = {R_2:.2f}')"
   ]
  },
  {
   "cell_type": "markdown",
   "id": "d1473715",
   "metadata": {
    "ExecuteTime": {
     "end_time": "2022-08-31T03:40:06.123037Z",
     "start_time": "2022-08-31T03:40:06.111027Z"
    }
   },
   "source": [
    "Resumindo o resultado em uma única tabela:"
   ]
  },
  {
   "cell_type": "code",
   "execution_count": 104,
   "id": "89913fea",
   "metadata": {
    "ExecuteTime": {
     "end_time": "2022-08-31T03:45:42.421292Z",
     "start_time": "2022-08-31T03:45:41.793346Z"
    }
   },
   "outputs": [
    {
     "name": "stdout",
     "output_type": "stream",
     "text": [
      "                            OLS Regression Results                            \n",
      "==============================================================================\n",
      "Dep. Variable:                      y   R-squared:                       1.000\n",
      "Model:                            OLS   Adj. R-squared:                  1.000\n",
      "Method:                 Least Squares   F-statistic:                 1.805e+34\n",
      "Date:                Wed, 31 Aug 2022   Prob (F-statistic):               0.00\n",
      "Time:                        00:45:42   Log-Likelihood:             4.8223e+05\n",
      "No. Observations:               22687   AIC:                        -9.645e+05\n",
      "Df Residuals:                   22681   BIC:                        -9.644e+05\n",
      "Df Model:                           5                                         \n",
      "Covariance Type:            nonrobust                                         \n",
      "=================================================================================\n",
      "                    coef    std err          t      P>|t|      [0.025      0.975]\n",
      "---------------------------------------------------------------------------------\n",
      "SqFtLot          -0.0605   3.33e-17  -1.82e+15      0.000      -0.060      -0.060\n",
      "SqFtTotLiving   228.8306   2.12e-15   1.08e+17      0.000     228.831     228.831\n",
      "Bathrooms     -1.944e+04   1.97e-12  -9.86e+15      0.000   -1.94e+04   -1.94e+04\n",
      "Bedrooms      -4.777e+04   1.35e-12  -3.53e+16      0.000   -4.78e+04   -4.78e+04\n",
      "BldgGrade      1.061e+05    1.3e-12   8.14e+16      0.000    1.06e+05    1.06e+05\n",
      "const         -5.219e+05   8.51e-12  -6.13e+16      0.000   -5.22e+05   -5.22e+05\n",
      "==============================================================================\n",
      "Omnibus:                    10542.824   Durbin-Watson:                   1.522\n",
      "Prob(Omnibus):                  0.000   Jarque-Bera (JB):           487202.672\n",
      "Skew:                           1.508   Prob(JB):                         0.00\n",
      "Kurtosis:                      25.501   Cond. No.                     2.86e+05\n",
      "==============================================================================\n",
      "\n",
      "Notes:\n",
      "[1] Standard Errors assume that the covariance matrix of the errors is correctly specified.\n",
      "[2] The condition number is large, 2.86e+05. This might indicate that there are\n",
      "strong multicollinearity or other numerical problems.\n"
     ]
    }
   ],
   "source": [
    "model = sm.OLS(yp, X.assign(const=1))\n",
    "results = model.fit()\n",
    "print(results.summary())"
   ]
  },
  {
   "cell_type": "markdown",
   "id": "de259beb",
   "metadata": {
    "ExecuteTime": {
     "end_time": "2022-08-31T03:52:57.692147Z",
     "start_time": "2022-08-31T03:52:57.673153Z"
    }
   },
   "source": [
    "#### Cross-Validation"
   ]
  },
  {
   "cell_type": "markdown",
   "id": "ffd7b07f",
   "metadata": {},
   "source": [
    "Métricas de regressão clássicas ($R^2$) são todas métricas \"na-análise\", ou seja, eles apicam os mesmos dados que foram usados para \"treinar\" o modelo. Intuitivamente, é possível perceber que seria melhor se separássemos uma fatia dos dados para treino e outro para teste, para verificar como o modelo performa. Normalmente, seria usado um grande volume de dados para treinar o modelo e apenas uma pequena amostra para testá-lo. Porém, é evidente de que o treino e o teste irão variar de acordo com quais dados forem selecionados. Então quão diferente seriam esses resultados?\n",
    "A ideia de **Cross-Validation** é justamente extender a ideia de aplicação de dados separados do treino para teste de forma iterativa, variando os dados tanto de treino, como de teste. O algorítimo de um *k-fold cross-validation* básico segue a seguinte sequência:\n",
    "\n",
    "- 1) Separa 1/k dos dados como uma amostra;\n",
    "- 2) Treina o modelo com os dados restantes;\n",
    "- 3) Aplica o modelo nos dados separados 1/k e registra as métricas do modelo obtido;\n",
    "- 4) Devolve os primeiros 1/k e separa novamente novo 1/k dos dados como uma amostra.\n",
    "- 5) Repete os passos 2 e 3\n",
    "- 6) Reprete até que cada registro tenha sido usado na amostra que é separada inicialmente;\n",
    "- 7) As métricas do modelo serão as médias das métricas de todos os modelos registrados.\n"
   ]
  },
  {
   "cell_type": "code",
   "execution_count": null,
   "id": "7f77d616",
   "metadata": {},
   "outputs": [],
   "source": []
  }
 ],
 "metadata": {
  "hide_input": false,
  "kernelspec": {
   "display_name": "Python 3 (ipykernel)",
   "language": "python",
   "name": "python3"
  },
  "language_info": {
   "codemirror_mode": {
    "name": "ipython",
    "version": 3
   },
   "file_extension": ".py",
   "mimetype": "text/x-python",
   "name": "python",
   "nbconvert_exporter": "python",
   "pygments_lexer": "ipython3",
   "version": "3.9.12"
  },
  "varInspector": {
   "cols": {
    "lenName": 16,
    "lenType": 16,
    "lenVar": 40
   },
   "kernels_config": {
    "python": {
     "delete_cmd_postfix": "",
     "delete_cmd_prefix": "del ",
     "library": "var_list.py",
     "varRefreshCmd": "print(var_dic_list())"
    },
    "r": {
     "delete_cmd_postfix": ") ",
     "delete_cmd_prefix": "rm(",
     "library": "var_list.r",
     "varRefreshCmd": "cat(var_dic_list()) "
    }
   },
   "types_to_exclude": [
    "module",
    "function",
    "builtin_function_or_method",
    "instance",
    "_Feature"
   ],
   "window_display": false
  }
 },
 "nbformat": 4,
 "nbformat_minor": 5
}
