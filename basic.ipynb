{
 "cells": [
  {
   "cell_type": "markdown",
   "id": "434d5efb",
   "metadata": {},
   "source": [
    "# Practical statistics for Data Scientists"
   ]
  },
  {
   "cell_type": "markdown",
   "id": "f63727c2",
   "metadata": {},
   "source": [
    "Nesse notebook você verá meus estudos pessoais sobre estatística, me guiando pelo livro Practical statistics for Data Scientists.\n",
    "\n",
    "Inicialmente, vale a pena observar que os principais objetivos do livro são:\n",
    "\n",
    "1. De forma fácil, apontar quais são os conceitos chaves para estatística que são relevantes para Data Science;\n",
    "\n",
    "2. Explicar quais conceitos são importantes e úteis na perspectiva da Ciência de Dados, quais são menos, e o porquê. "
   ]
  },
  {
   "cell_type": "markdown",
   "id": "a202837f",
   "metadata": {},
   "source": [
    "## 1. Exploratory Data Analysis"
   ]
  },
  {
   "cell_type": "markdown",
   "id": "b39053be",
   "metadata": {},
   "source": [
    "Como disciplina, a Estatística foi desenvolvida, em sua maioria, no século passado. A Teoria da Probabilidade, a base matemática da estatística, foi desenvolvida entre os séculos 17 e 19, baseada nos trabalhos de:\n",
    "- Thomas Bayes;\n",
    "- Pierre-Simon Laplace;\n",
    "- Carl Gauss\n",
    "Esse capítulo foca nos primeiros passos de um projeto de Ciência de Dados, a Análise Exploratória de Dados (EDA).\n",
    "\n",
    "<b>Importante</b>: A estatística clássica foca quase exclusivamente em <b>inferência</b>, um complexo conjunto de procedimentos para tirar conclusões sobre grandes populaçãos tomando como base pequenas amostras.\n",
    "\n",
    "A Análise de Dados como disciplina foi proposta por John W. Tukey em 1962, onde ele incluiu a inferência estatística como só um componente, unindo engenharia e ciência de dados."
   ]
  },
  {
   "cell_type": "markdown",
   "id": "6e904936",
   "metadata": {},
   "source": [
    "### 1.1 Elements of Structured Data"
   ]
  },
  {
   "cell_type": "markdown",
   "id": "9d9eb94e",
   "metadata": {},
   "source": [
    "Dados são obtidos por várias fontes:\n",
    "- Sensores\n",
    "- Eventos\n",
    "- Texto\n",
    "- Imagens\n",
    "- Vídeos\n",
    "\n",
    "A Internet das Coisas produz uma massa de dados gigantesca e, em sua maioria, esses dados são desestruturados:\n",
    "- Imagens são conjuntos de pixels onde cada pixel contém informação de cor RGB (red, green, blue)\n",
    "- Textos são sequências de palavras e caracteres, geralmente organizados por seção, subseção\n",
    "- Clickstreams são sequências de ações feitas pelo usuário interagindo com um app ou uma página web.\n",
    "Boa parte do desafio da Ciência de Dados é transformar esses dados em informações úteis, ou seja, precisam ser processados e manipulados para uma forma estruturada.\n",
    "\n",
    "#### Tipos de Dados:\n",
    "- Contínuo: float, interval, numeric\n",
    "- Discreto: int, integer, count\n",
    "- Categórico: enums, enumerated, factors, nominal\n",
    "- Binários: logical, boolean\n",
    "- Ordinário: dados categóricos que possuem ordem\n",
    "\n",
    "#### Dados estruturados:\n",
    "- Numérico:\n",
    "    - Contínuo, como a velocidade do vendo ou a duração de tempo;\n",
    "    - Discreto, como a contagem de ocorrência de um evento\n",
    "   \n",
    "- Categórico:\n",
    "    - Conjunto fixo de dados, como o tipo da tela de uma TV (plasma, LCD, LED, etc.)\n",
    "    - Nome de um estado (Alabama, Alaska, etc.)\n",
    "    - Binário é um tipo de dado categórico muito especial, onde ele pode ter apenas dois valores, como 0/1, yes/no ou true/false.\n",
    "    - Ordinário, quando as categorias possuem ordem, como a numeração de notas (1, 2, 3, 4...)\n",
    "    \n",
    "#### Qual a importância de conhecer o tipo de dados?\n",
    "Quando falamos de análise de dados e predição de modelos, o tipo do dado é importante para ajudar a determinar o tipo de visualização, a forma como a análise será feita ou o modelo estatístico será usado."
   ]
  },
  {
   "cell_type": "markdown",
   "id": "86de3be3",
   "metadata": {},
   "source": [
    "### 1.2 Rectangular Data"
   ]
  },
  {
   "cell_type": "code",
   "execution_count": null,
   "id": "b949ef82",
   "metadata": {},
   "outputs": [],
   "source": []
  }
 ],
 "metadata": {
  "kernelspec": {
   "display_name": "Python 3 (ipykernel)",
   "language": "python",
   "name": "python3"
  },
  "language_info": {
   "codemirror_mode": {
    "name": "ipython",
    "version": 3
   },
   "file_extension": ".py",
   "mimetype": "text/x-python",
   "name": "python",
   "nbconvert_exporter": "python",
   "pygments_lexer": "ipython3",
   "version": "3.9.12"
  }
 },
 "nbformat": 4,
 "nbformat_minor": 5
}
