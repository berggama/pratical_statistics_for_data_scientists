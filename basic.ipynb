{
 "cells": [
  {
   "cell_type": "markdown",
   "id": "434d5efb",
   "metadata": {},
   "source": [
    "# Practical statistics for Data Scientists"
   ]
  },
  {
   "cell_type": "markdown",
   "id": "f63727c2",
   "metadata": {},
   "source": [
    "Nesse notebook você verá meu resumo e estudo pessoal sobre estatística, me guiando pelo livro Practical statistics for Data Scientists.\n",
    "\n",
    "Inicialmente, vale a pena observar que os principais objetivos do livro são:\n",
    "\n",
    "1. De forma fácil, apontar quais são os conceitos chaves para estatística que são relevantes para Data Science;\n",
    "\n",
    "2. Explicar quais conceitos são importantes e úteis na perspectiva da Ciência de Dados, quais são menos, e o porquê. "
   ]
  },
  {
   "cell_type": "markdown",
   "id": "a202837f",
   "metadata": {},
   "source": [
    "## 1. Exploratory Data Analysis"
   ]
  },
  {
   "cell_type": "markdown",
   "id": "b39053be",
   "metadata": {},
   "source": [
    "Como disciplina, a Estatística foi desenvolvida, em sua maioria, no século passado. A Teoria da Probabilidade, a base matemática da estatística, foi desenvolvida entre os séculos 17 e 19, baseada nos trabalhos de:\n",
    "- Thomas Bayes;\n",
    "- Pierre-Simon Laplace;\n",
    "- Carl Gauss\n",
    "Esse capítulo foca nos primeiros passos de um projeto de Ciência de Dados, a Análise Exploratória de Dados (EDA).\n",
    "\n",
    "<b>Importante</b>: A estatística clássica foca quase exclusivamente em <b>inferência</b>, um complexo conjunto de procedimentos para tirar conclusões sobre grandes populaçãos tomando como base pequenas amostras.\n",
    "\n",
    "A Análise de Dados como disciplina foi proposta por John W. Tukey em 1962, onde ele incluiu a inferência estatística como só um componente, unindo engenharia e ciência de dados."
   ]
  },
  {
   "cell_type": "markdown",
   "id": "6e904936",
   "metadata": {},
   "source": [
    "### 1.1 Elements of Structured Data"
   ]
  },
  {
   "cell_type": "markdown",
   "id": "9d9eb94e",
   "metadata": {},
   "source": [
    "Dados são obtidos por várias fontes:\n",
    "- Sensores\n",
    "- Eventos\n",
    "- Texto\n",
    "- Imagens\n",
    "- Vídeos\n",
    "\n",
    "A Internet das Coisas produz uma massa de dados gigantesca e, em sua maioria, esses dados são desestruturados:\n",
    "- Imagens são conjuntos de pixels onde cada pixel contém informação de cor RGB (red, green, blue)\n",
    "- Textos são sequências de palavras e caracteres, geralmente organizados por seção, subseção\n",
    "- Clickstreams são sequências de ações feitas pelo usuário interagindo com um app ou uma página web.\n",
    "Boa parte do desafio da Ciência de Dados é transformar esses dados em informações úteis, ou seja, precisam ser processados e manipulados para uma forma estruturada.\n",
    "\n",
    "#### Tipos de Dados:\n",
    "- Contínuo: float, interval, numeric\n",
    "- Discreto: int, integer, count\n",
    "- Categórico: enums, enumerated, factors, nominal\n",
    "- Binários: logical, boolean\n",
    "- Ordinário: dados categóricos que possuem ordem\n",
    "\n",
    "#### Dados estruturados:\n",
    "- Numérico:\n",
    "    - Contínuo, como a velocidade do vendo ou a duração de tempo;\n",
    "    - Discreto, como a contagem de ocorrência de um evento\n",
    "   \n",
    "- Categórico:\n",
    "    - Conjunto fixo de dados, como o tipo da tela de uma TV (plasma, LCD, LED, etc.)\n",
    "    - Nome de um estado (Alabama, Alaska, etc.)\n",
    "    - Binário é um tipo de dado categórico muito especial, onde ele pode ter apenas dois valores, como 0/1, yes/no ou true/false.\n",
    "    - Ordinário, quando as categorias possuem ordem, como a numeração de notas (1, 2, 3, 4...)\n",
    "    \n",
    "#### Qual a importância de conhecer o tipo de dados?\n",
    "Quando falamos de análise de dados e predição de modelos, o tipo do dado é importante para ajudar a determinar o tipo de visualização, a forma como a análise será feita ou o modelo estatístico será usado."
   ]
  },
  {
   "cell_type": "markdown",
   "id": "c4b4be98",
   "metadata": {},
   "source": [
    "### 1.2 Rectangular Data"
   ]
  },
  {
   "cell_type": "markdown",
   "id": "86de3be3",
   "metadata": {},
   "source": [
    "A estrutura de \"dados retangulares\" é a estrutura de referência típica para análises de Data Science, como planilhas e tabelas.\n",
    "\n",
    "Elementos de \"dados retangulares\"\n",
    "- Data frame: planilha/tabela é a estrutura básica de dados para Modelos Estatísticos e de Machine Learning;\n",
    "- Feature: são as colunas da tabela, também chamado de variáveis, atributos ou inputs;\n",
    "- Outcome: muitos projetos de ciência de dados envolvem a predição de um resultado. As features são usadas para prever o resultado. também chamado de variável dependente, resposta, alvo ou output\n",
    "- Records: são as linhas da tabelas, também chamadas de registros ou observações, amostras, exemplos ou casos.\n",
    "\n",
    "Exemplo de um típico formato de dado:"
   ]
  },
  {
   "cell_type": "code",
   "execution_count": 1,
   "id": "f14938d2",
   "metadata": {
    "ExecuteTime": {
     "end_time": "2022-08-27T02:36:02.723574Z",
     "start_time": "2022-08-27T02:35:48.829686Z"
    }
   },
   "outputs": [
    {
     "data": {
      "text/html": [
       "<div>\n",
       "<style scoped>\n",
       "    .dataframe tbody tr th:only-of-type {\n",
       "        vertical-align: middle;\n",
       "    }\n",
       "\n",
       "    .dataframe tbody tr th {\n",
       "        vertical-align: top;\n",
       "    }\n",
       "\n",
       "    .dataframe thead th {\n",
       "        text-align: right;\n",
       "    }\n",
       "</style>\n",
       "<table border=\"1\" class=\"dataframe\">\n",
       "  <thead>\n",
       "    <tr style=\"text-align: right;\">\n",
       "      <th></th>\n",
       "      <th>State</th>\n",
       "      <th>Population</th>\n",
       "      <th>Murder.Rate</th>\n",
       "      <th>Abbreviation</th>\n",
       "    </tr>\n",
       "  </thead>\n",
       "  <tbody>\n",
       "    <tr>\n",
       "      <th>0</th>\n",
       "      <td>Alabama</td>\n",
       "      <td>4779736</td>\n",
       "      <td>5.7</td>\n",
       "      <td>AL</td>\n",
       "    </tr>\n",
       "    <tr>\n",
       "      <th>1</th>\n",
       "      <td>Alaska</td>\n",
       "      <td>710231</td>\n",
       "      <td>5.6</td>\n",
       "      <td>AK</td>\n",
       "    </tr>\n",
       "    <tr>\n",
       "      <th>2</th>\n",
       "      <td>Arizona</td>\n",
       "      <td>6392017</td>\n",
       "      <td>4.7</td>\n",
       "      <td>AZ</td>\n",
       "    </tr>\n",
       "    <tr>\n",
       "      <th>3</th>\n",
       "      <td>Arkansas</td>\n",
       "      <td>2915918</td>\n",
       "      <td>5.6</td>\n",
       "      <td>AR</td>\n",
       "    </tr>\n",
       "    <tr>\n",
       "      <th>4</th>\n",
       "      <td>California</td>\n",
       "      <td>37253956</td>\n",
       "      <td>4.4</td>\n",
       "      <td>CA</td>\n",
       "    </tr>\n",
       "  </tbody>\n",
       "</table>\n",
       "</div>"
      ],
      "text/plain": [
       "        State  Population  Murder.Rate Abbreviation\n",
       "0     Alabama     4779736          5.7           AL\n",
       "1      Alaska      710231          5.6           AK\n",
       "2     Arizona     6392017          4.7           AZ\n",
       "3    Arkansas     2915918          5.6           AR\n",
       "4  California    37253956          4.4           CA"
      ]
     },
     "execution_count": 1,
     "metadata": {},
     "output_type": "execute_result"
    }
   ],
   "source": [
    "import pandas as pd\n",
    "data = pd.read_csv('https://raw.githubusercontent.com/gedeck/practical-statistics-for-data-scientists/master/data/state.csv')\n",
    "data.head()"
   ]
  },
  {
   "cell_type": "markdown",
   "id": "4c3f5b0b",
   "metadata": {},
   "source": [
    "Base de dados tem uma ou mais colunas definidas como index e isso pode facilitar muito as consultas a serem feitas, até mesmo no SQL. No Python, a bibioteca Pandas a estrutura de dados retangular é transformada em um objeto DataFrame. Já em R, a estrutura é um objeto data.frame. Quando falamos de multiníveis de index, ambos suportam, mas o objeto data.frame é significantemente mais rápido do que o primeiro.\n"
   ]
  },
  {
   "cell_type": "markdown",
   "id": "2aea529f",
   "metadata": {},
   "source": [
    "### 1.3 Nonrectangular Data Structures"
   ]
  },
  {
   "cell_type": "markdown",
   "id": "06ac480a",
   "metadata": {},
   "source": [
    "Existem outras estruturas de dados além da retangular: \n",
    "- Dados de séries temporais registram sucessivas medições de uma única variável ao longo do tempo, servindo de base para metódos estatísticos de previsão.\n",
    "- Dados de espaço, que são usados em mapas e em análises espaciais, possuem estraturas mais complexas e variadas do que a estrutura retangular,\n",
    "- Grafos são estruturas de dados usadas para representar fisicamente, socialmente e de forma abstratas, as relações. \n",
    "Cada um desses tipos de dados necessitam de uma metodologia diferente de ciência de dados. Nesse livro é abordado apenas situações de dados estruturados, a base das modelagens preditivas."
   ]
  },
  {
   "cell_type": "markdown",
   "id": "67c65343",
   "metadata": {},
   "source": [
    "### 1.4 Estimates of Location"
   ]
  },
  {
   "cell_type": "markdown",
   "id": "19b1a847",
   "metadata": {},
   "source": [
    "Variáveis com medidas ou contagem de dados tem centenas de valores distintos. Uma forma basica de explorar os dados é procurando um \"valor típico\" para cada feature (variável), um local estimado onde mais dos dados está localizado, um ponto central, uma forma de resumir uma distribuição em um único valor numérico. Temos os seguintes:"
   ]
  },
  {
   "cell_type": "markdown",
   "id": "64b73730",
   "metadata": {},
   "source": [
    "- Média: a soma de todos os valores divididos pelo número de valores\n",
    "\n",
    "$ Média = \\bar x = \\dfrac {\\sum_{i}^{n} x_{i}}{n} $"
   ]
  },
  {
   "cell_type": "code",
   "execution_count": 2,
   "id": "3378b943",
   "metadata": {
    "ExecuteTime": {
     "end_time": "2022-08-27T02:36:02.755555Z",
     "start_time": "2022-08-27T02:36:02.728572Z"
    }
   },
   "outputs": [
    {
     "name": "stdout",
     "output_type": "stream",
     "text": [
      "Média de assassinatos = 4.07\n",
      "Média da população = 6162876.3\n"
     ]
    }
   ],
   "source": [
    "media_pop = data['Population'].mean()\n",
    "media_murder = data['Murder.Rate'].mean()\n",
    "print(f'Média de assassinatos = {round(media_murder,2)}')\n",
    "print(f'Média da população = {round(media_pop,2)}')"
   ]
  },
  {
   "cell_type": "markdown",
   "id": "fa22e367",
   "metadata": {},
   "source": [
    "- Média ponderada: a soma de todos os valores multiplicado pelo seu respectivo peso dividido pela soma dos pesos\n",
    "\n",
    "$ Média Ponderada = \\bar x_{w} = \\dfrac {\\sum_{i=1}^{n} x_{i}w_{i}}{\\sum_{i}^{n} w_{i}} $"
   ]
  },
  {
   "cell_type": "code",
   "execution_count": 3,
   "id": "32bd0be5",
   "metadata": {
    "ExecuteTime": {
     "end_time": "2022-08-27T02:36:02.897040Z",
     "start_time": "2022-08-27T02:36:02.760552Z"
    },
    "scrolled": true
   },
   "outputs": [
    {
     "name": "stdout",
     "output_type": "stream",
     "text": [
      "Média Ponderada de Assassinatos = 4.45\n",
      "Média Ponderada da População = 6738594.41\n"
     ]
    }
   ],
   "source": [
    "import numpy as np\n",
    "\n",
    "media_ponderada_pop =  np.average(a= data['Population'], weights= data['Murder.Rate'])\n",
    "media_ponderada_murder = np.average(a= data['Murder.Rate'], weights= data['Population'])\n",
    "print(f'Média Ponderada de Assassinatos = {round(media_ponderada_murder,2)}')\n",
    "print(f'Média Ponderada da População = {round(media_ponderada_pop,2)}')"
   ]
  },
  {
   "cell_type": "markdown",
   "id": "79caa16a",
   "metadata": {},
   "source": [
    "- Média truncada: a média de todos os valores depois de elimiar um valor fixo de valores extremos, tanto inferiores como superiores \n",
    "\n",
    "$ Média Truncada = \\bar x = \\dfrac {\\sum_{i=p+1}^{n-p} x_{(i)}}{n-2p} $"
   ]
  },
  {
   "cell_type": "code",
   "execution_count": 55,
   "id": "55a23ebe",
   "metadata": {
    "ExecuteTime": {
     "end_time": "2022-08-27T03:17:26.771279Z",
     "start_time": "2022-08-27T03:17:26.750290Z"
    }
   },
   "outputs": [
    {
     "name": "stdout",
     "output_type": "stream",
     "text": [
      "Média Truncada da População = 4783697.12\n",
      "Média Truncada de Assassinatos = 3.94\n"
     ]
    }
   ],
   "source": [
    "from scipy import stats\n",
    "\n",
    "#calculando a média truncada eliminando 10%\n",
    "media_truncada_pop = stats.trim_mean(data['Population'], 0.1)\n",
    "media_truncada_murder = stats.trim_mean(data['Murder.Rate'], 0.1)\n",
    "print(f'Média Truncada da População = {round(media_truncada_pop,2)}')\n",
    "print(f'Média Truncada de Assassinatos = {round(media_truncada_murder,2)}')"
   ]
  },
  {
   "cell_type": "markdown",
   "id": "22abd12f",
   "metadata": {},
   "source": [
    "#### Median and Robust Estimates"
   ]
  },
  {
   "cell_type": "markdown",
   "id": "4cac668f",
   "metadata": {},
   "source": [
    "Como foi visto, para o cálculo da média é utilizado todos os valores presentes, fazendo com que seja uma medida sensível aos dados. Procurando uma estimativa mais robusta, onde valores destoantes do padrão são ignorados (outliers), temos a mediana e outras estimativas semelhantes (como a média truncada, que elimina valores extremos, tanto superiores como inferiores).\n",
    "\n",
    "**Importante**: Um dado ser outlier não significa que ele é errado, pode realmente ser reflexo do evento, dependendo do contexto da análise. O importante é investigar se é um erro, um valor inválido ou se é algo natural. "
   ]
  },
  {
   "cell_type": "markdown",
   "id": "481d612e",
   "metadata": {},
   "source": [
    "- Mediana: O valor tal que metade dos dados são menores do que ele e a outro metade são maiores. Quando temos os dados ordenados, a mediana está localizado no exato meio da sequência de números. Tão chamado de percentil 50. 1) Se o numero total de dados na coluna (*n*) é impar, então o valor é central, 2) se *n* é par, o valor é a média dos dois valores centrais."
   ]
  },
  {
   "cell_type": "code",
   "execution_count": 5,
   "id": "6c1b53a5",
   "metadata": {
    "ExecuteTime": {
     "end_time": "2022-08-27T02:36:04.171560Z",
     "start_time": "2022-08-27T02:36:04.158568Z"
    }
   },
   "outputs": [
    {
     "name": "stdout",
     "output_type": "stream",
     "text": [
      "Mediana = 4436369.5\n"
     ]
    }
   ],
   "source": [
    "mediana = data['Population'].median()\n",
    "print(f'Mediana = {mediana}')"
   ]
  },
  {
   "cell_type": "markdown",
   "id": "c4135c26",
   "metadata": {},
   "source": [
    "- Mediana Ponderada: O valor tal que metade das somas cumulativas dos pesos são menores do que ele e a outro metade são valores maiores. Os dados precisam estar ordenados"
   ]
  },
  {
   "cell_type": "code",
   "execution_count": 6,
   "id": "fe20d232",
   "metadata": {
    "ExecuteTime": {
     "end_time": "2022-08-27T02:36:04.407135Z",
     "start_time": "2022-08-27T02:36:04.174538Z"
    }
   },
   "outputs": [
    {
     "name": "stdout",
     "output_type": "stream",
     "text": [
      "Mediana ponderada = 4.4\n"
     ]
    }
   ],
   "source": [
    "# Para essa métrica, é necessário instalar o pacote wquantiles \n",
    "#!pip install wquantiles\n",
    "\n",
    "import wquantiles\n",
    "mediana_ponderada = wquantiles.median(data['Murder.Rate'], weights= data['Population'])\n",
    "print(f'Mediana ponderada = {mediana_ponderada}')"
   ]
  },
  {
   "cell_type": "markdown",
   "id": "798e97c3",
   "metadata": {
    "ExecuteTime": {
     "end_time": "2022-08-27T02:00:21.053446Z",
     "start_time": "2022-08-27T02:00:21.037456Z"
    }
   },
   "source": [
    "### 1.5 Estimates of Variability"
   ]
  },
  {
   "cell_type": "markdown",
   "id": "6aaf5dbc",
   "metadata": {},
   "source": [
    "No tópico passado vimos uma dimensão de resumos de features. Uma outra forma de resumir é a variabilidade, também chamada de dispersão. O coração da estatística está na variabilidade: medindo-a, reduzindo-a, distinguindo os dados aleatórios dos reais, identificando as várias fontes reais e fazendo decisões usando-a. Métricas para calcular a variabilidade:"
   ]
  },
  {
   "cell_type": "markdown",
   "id": "546ae28b",
   "metadata": {
    "ExecuteTime": {
     "end_time": "2022-08-27T02:07:20.182468Z",
     "start_time": "2022-08-27T02:07:20.166476Z"
    }
   },
   "source": [
    "- Desvios: a diferença entre os dados observados e um valor base. O desvio nos fala quão dispersos os dados estão em relação a um valor central, geralmente a média. Também chamado de erro ou resíduo. Unidade igual da feature"
   ]
  },
  {
   "cell_type": "code",
   "execution_count": 13,
   "id": "e06b4e55",
   "metadata": {
    "ExecuteTime": {
     "end_time": "2022-08-27T02:40:11.715516Z",
     "start_time": "2022-08-27T02:40:11.677500Z"
    }
   },
   "outputs": [
    {
     "data": {
      "text/html": [
       "<div>\n",
       "<style scoped>\n",
       "    .dataframe tbody tr th:only-of-type {\n",
       "        vertical-align: middle;\n",
       "    }\n",
       "\n",
       "    .dataframe tbody tr th {\n",
       "        vertical-align: top;\n",
       "    }\n",
       "\n",
       "    .dataframe thead th {\n",
       "        text-align: right;\n",
       "    }\n",
       "</style>\n",
       "<table border=\"1\" class=\"dataframe\">\n",
       "  <thead>\n",
       "    <tr style=\"text-align: right;\">\n",
       "      <th></th>\n",
       "      <th>State</th>\n",
       "      <th>Population</th>\n",
       "      <th>Murder.Rate</th>\n",
       "      <th>Abbreviation</th>\n",
       "      <th>Erro</th>\n",
       "    </tr>\n",
       "  </thead>\n",
       "  <tbody>\n",
       "    <tr>\n",
       "      <th>0</th>\n",
       "      <td>Alabama</td>\n",
       "      <td>4779736</td>\n",
       "      <td>5.7</td>\n",
       "      <td>AL</td>\n",
       "      <td>-1383140.3</td>\n",
       "    </tr>\n",
       "    <tr>\n",
       "      <th>1</th>\n",
       "      <td>Alaska</td>\n",
       "      <td>710231</td>\n",
       "      <td>5.6</td>\n",
       "      <td>AK</td>\n",
       "      <td>-5452645.3</td>\n",
       "    </tr>\n",
       "    <tr>\n",
       "      <th>2</th>\n",
       "      <td>Arizona</td>\n",
       "      <td>6392017</td>\n",
       "      <td>4.7</td>\n",
       "      <td>AZ</td>\n",
       "      <td>229140.7</td>\n",
       "    </tr>\n",
       "    <tr>\n",
       "      <th>3</th>\n",
       "      <td>Arkansas</td>\n",
       "      <td>2915918</td>\n",
       "      <td>5.6</td>\n",
       "      <td>AR</td>\n",
       "      <td>-3246958.3</td>\n",
       "    </tr>\n",
       "    <tr>\n",
       "      <th>4</th>\n",
       "      <td>California</td>\n",
       "      <td>37253956</td>\n",
       "      <td>4.4</td>\n",
       "      <td>CA</td>\n",
       "      <td>31091079.7</td>\n",
       "    </tr>\n",
       "  </tbody>\n",
       "</table>\n",
       "</div>"
      ],
      "text/plain": [
       "        State  Population  Murder.Rate Abbreviation        Erro\n",
       "0     Alabama     4779736          5.7           AL  -1383140.3\n",
       "1      Alaska      710231          5.6           AK  -5452645.3\n",
       "2     Arizona     6392017          4.7           AZ    229140.7\n",
       "3    Arkansas     2915918          5.6           AR  -3246958.3\n",
       "4  California    37253956          4.4           CA  31091079.7"
      ]
     },
     "execution_count": 13,
     "metadata": {},
     "output_type": "execute_result"
    }
   ],
   "source": [
    "data['Erro'] = (data['Population'] - media_pop)\n",
    "data.head()"
   ]
  },
  {
   "cell_type": "markdown",
   "id": "f63607c8",
   "metadata": {
    "ExecuteTime": {
     "end_time": "2022-08-27T02:21:43.951431Z",
     "start_time": "2022-08-27T02:21:43.940433Z"
    }
   },
   "source": [
    "- Desvio médio absoluto: é a média dos valores absolutos dos desvios em relação a média. Também chamado de MAD ou MAE. Unidade igual ao da feature\n",
    "\n",
    "$ MAE = \\dfrac {\\sum_{i=1}^{n} | x_{(i)}-\\bar x|}{n} $"
   ]
  },
  {
   "cell_type": "code",
   "execution_count": 20,
   "id": "3e7f1fc6",
   "metadata": {
    "ExecuteTime": {
     "end_time": "2022-08-27T02:47:38.925066Z",
     "start_time": "2022-08-27T02:47:38.905056Z"
    }
   },
   "outputs": [
    {
     "name": "stdout",
     "output_type": "stream",
     "text": [
      "MAE = 4450933.36\n"
     ]
    }
   ],
   "source": [
    "MAE = (sum(abs(data['Population'] - media_pop)))/data['Population'].count()\n",
    "print(f'MAE = {round(MAE,2)}')"
   ]
  },
  {
   "cell_type": "markdown",
   "id": "90024cc2",
   "metadata": {},
   "source": [
    "- Variância: é a soma dos quadrados dos desvios divididos por *n*-1, onde *n* é a quantidade de dados. Unidade **NÃO** é a mesma da feature\n",
    "\n",
    "$ Variancia = s^2 =  \\dfrac {\\sum (x -\\bar x)^2}{n-1} $"
   ]
  },
  {
   "cell_type": "code",
   "execution_count": 44,
   "id": "42f4dc40",
   "metadata": {
    "ExecuteTime": {
     "end_time": "2022-08-27T03:06:31.811841Z",
     "start_time": "2022-08-27T03:06:31.800870Z"
    }
   },
   "outputs": [
    {
     "name": "stdout",
     "output_type": "stream",
     "text": [
      "Variância = 45960360825926.56\n"
     ]
    }
   ],
   "source": [
    "variance = np.var(data['Population'])\n",
    "print(f'Variância = {variance}')"
   ]
  },
  {
   "cell_type": "markdown",
   "id": "62cbcb55",
   "metadata": {
    "ExecuteTime": {
     "end_time": "2022-08-27T02:19:25.430745Z",
     "start_time": "2022-08-27T02:19:25.419731Z"
    }
   },
   "source": [
    "- Desvio Padrão: é a raiz quadrada da Variância\n",
    "\n",
    "$ Desvio Padrão = s = \\sqrt(Variancia) $"
   ]
  },
  {
   "cell_type": "code",
   "execution_count": 51,
   "id": "5999cc82",
   "metadata": {
    "ExecuteTime": {
     "end_time": "2022-08-27T03:09:25.217910Z",
     "start_time": "2022-08-27T03:09:25.201922Z"
    }
   },
   "outputs": [
    {
     "name": "stdout",
     "output_type": "stream",
     "text": [
      "Desvio Padrão (usando n-1 no denominador para cálculo da variância): 6779407.11\n",
      "Desvio Padrão (usando n no denominador para cálculo da variância): 6848235.35\n"
     ]
    }
   ],
   "source": [
    "import math\n",
    "\n",
    "std_1 = math.sqrt(variance)\n",
    "print(f'Desvio Padrão (usando n-1 no denominador para cálculo da variância): {round(std_1,2)}')\n",
    "\n",
    "std_2 = data['Population'].std()\n",
    "print(f'Desvio Padrão (usando n no denominador para cálculo da variância): {round(std_2,2)}')\n",
    "\n"
   ]
  },
  {
   "cell_type": "markdown",
   "id": "2d18b3e7",
   "metadata": {},
   "source": [
    "- Desvio mediano absoluto: semelhante ao MAE, mas em relação à mediana"
   ]
  },
  {
   "cell_type": "code",
   "execution_count": 58,
   "id": "814aaeea",
   "metadata": {
    "ExecuteTime": {
     "end_time": "2022-08-27T03:19:59.407437Z",
     "start_time": "2022-08-27T03:19:59.397424Z"
    }
   },
   "outputs": [
    {
     "name": "stdout",
     "output_type": "stream",
     "text": [
      "Desvio mediano absoluto = 3849876.1459979336\n"
     ]
    }
   ],
   "source": [
    "from statsmodels import robust\n",
    "\n",
    "median_ae = robust.scale.mad(data['Population'])\n",
    "print(f'Desvio mediano absoluto = {median_ae}')"
   ]
  },
  {
   "cell_type": "markdown",
   "id": "0594ce09",
   "metadata": {
    "ExecuteTime": {
     "end_time": "2022-08-27T02:24:42.557401Z",
     "start_time": "2022-08-27T02:24:42.541432Z"
    }
   },
   "source": [
    "- Range: diferença entre o maior e o menor valor do dataset"
   ]
  },
  {
   "cell_type": "code",
   "execution_count": 64,
   "id": "e890a718",
   "metadata": {
    "ExecuteTime": {
     "end_time": "2022-08-27T03:22:19.488943Z",
     "start_time": "2022-08-27T03:22:19.468953Z"
    }
   },
   "outputs": [
    {
     "name": "stdout",
     "output_type": "stream",
     "text": [
      " Range do dataset = 36690330\n"
     ]
    }
   ],
   "source": [
    "range_ =data['Population'].max() - data['Population'].min()\n",
    "print(f' Range do dataset = {range_}')"
   ]
  },
  {
   "cell_type": "markdown",
   "id": "aa72a324",
   "metadata": {},
   "source": [
    "- Percentile: o valor tal que *P* percentual dos dados represente o valor ou menor, enquanto (100-P) percetual representa esse valor ou mais. Também chamado de quantil."
   ]
  },
  {
   "cell_type": "code",
   "execution_count": 75,
   "id": "4e7c4535",
   "metadata": {
    "ExecuteTime": {
     "end_time": "2022-08-27T03:30:01.330014Z",
     "start_time": "2022-08-27T03:30:01.310006Z"
    }
   },
   "outputs": [
    {
     "name": "stdout",
     "output_type": "stream",
     "text": [
      "Percentil 05 = 689529.0\n",
      "Percentil 25 = 1833004.25\n",
      "Percentil 50 = 4436369.5\n",
      "Percentil 75 = 6680312.25\n",
      "Percentil 95 = 19118545.6\n"
     ]
    }
   ],
   "source": [
    "percentil_05 = np.percentile(data['Population'],5)\n",
    "print(f'Percentil 05 = {round(percentil_05,2)}')\n",
    "\n",
    "percentil_25 = np.percentile(data['Population'],25)\n",
    "print(f'Percentil 25 = {round(percentil_25,2)}')\n",
    "\n",
    "percentil_50 = np.percentile(data['Population'],50)\n",
    "print(f'Percentil 50 = {round(percentil_50,2)}')\n",
    "\n",
    "percentil_75 = np.percentile(data['Population'],75)\n",
    "print(f'Percentil 75 = {round(percentil_75,2)}')\n",
    "\n",
    "percentil_95 = np.percentile(data['Population'],95)\n",
    "print(f'Percentil 95 = {round(percentil_95,2)}')"
   ]
  },
  {
   "cell_type": "markdown",
   "id": "152d9723",
   "metadata": {
    "ExecuteTime": {
     "end_time": "2022-08-27T02:28:44.983087Z",
     "start_time": "2022-08-27T02:28:44.965097Z"
    }
   },
   "source": [
    "- Distância interquartil: é a diferença entre o percentil 75 e o percentil 25. Também chamado de IQR"
   ]
  },
  {
   "cell_type": "code",
   "execution_count": 74,
   "id": "78073266",
   "metadata": {
    "ExecuteTime": {
     "end_time": "2022-08-27T03:29:58.763006Z",
     "start_time": "2022-08-27T03:29:58.745020Z"
    }
   },
   "outputs": [
    {
     "name": "stdout",
     "output_type": "stream",
     "text": [
      "Distância interquartil = 4847308.0\n"
     ]
    }
   ],
   "source": [
    "IQR = percentil_75 - percentil_25\n",
    "print(f'Distância interquartil = {IQR}')"
   ]
  },
  {
   "cell_type": "markdown",
   "id": "0af7a01c",
   "metadata": {},
   "source": [
    "- Ordem estatistica: métricas baseadas nos valores ordenados dos menores para os maiores"
   ]
  },
  {
   "cell_type": "markdown",
   "id": "cd429cd1",
   "metadata": {},
   "source": [
    "### 1.6 Exploring the Data Distribution"
   ]
  },
  {
   "cell_type": "markdown",
   "id": "133ec907",
   "metadata": {},
   "source": [
    "Até aqui procuramos um jeito de resumir o conjunto de dados a um único número, para entender a localização e variabilidade dos dados. Porém isso também é útil para explorar como os dados estão distribuidos"
   ]
  },
  {
   "cell_type": "markdown",
   "id": "5b042437",
   "metadata": {},
   "source": [
    "- Boxplot: introduzido por Tukey como uma forma rápida de visualizar a distribuição dos dados. O topo da caixa e a base da caixa são os percentis 75 e 25 respectivamente. A mediana é mostrada na linha vertical que corta a caixa. As linhas que saem da caixa são chamadas de *whiskers* e não tem um valor específico, mas geralmente são representadas como 1.5 vezes o tamanho do IQR. Qualquer dado além dos *whiskers* são representados como pontos"
   ]
  },
  {
   "cell_type": "code",
   "execution_count": 101,
   "id": "6c211c8b",
   "metadata": {
    "ExecuteTime": {
     "end_time": "2022-08-27T04:12:33.337706Z",
     "start_time": "2022-08-27T04:12:33.141848Z"
    }
   },
   "outputs": [
    {
     "data": {
      "text/plain": [
       "Text(0.5, 0, 'Population (milhões)')"
      ]
     },
     "execution_count": 101,
     "metadata": {},
     "output_type": "execute_result"
    },
    {
     "data": {
      "image/png": "[encoded data removed]",
      "text/plain": [
       "<Figure size 720x360 with 1 Axes>"
      ]
     },
     "metadata": {},
     "output_type": "display_data"
    }
   ],
   "source": [
    "import seaborn as sns\n",
    "\n",
    "ax = sns.boxplot(x = data['Population']/1000000, orient = 'x')\n",
    "sns.set(rc={'figure.figsize':(5,2.5)})\n",
    "ax.set_xlabel('Population (milhões)')"
   ]
  },
  {
   "cell_type": "markdown",
   "id": "924bb112",
   "metadata": {},
   "source": [
    "- Tabela de Frequência: a contagem de determinados valores que se enquadram dentro de determinados intervalos (bins)"
   ]
  },
  {
   "cell_type": "code",
   "execution_count": 106,
   "id": "b4f2edec",
   "metadata": {
    "ExecuteTime": {
     "end_time": "2022-08-27T04:15:33.813554Z",
     "start_time": "2022-08-27T04:15:33.515578Z"
    }
   },
   "outputs": [
    {
     "data": {
      "text/plain": [
       "Text(0, 0.5, 'Frequência')"
      ]
     },
     "execution_count": 106,
     "metadata": {},
     "output_type": "execute_result"
    },
    {
     "data": {
      "image/png": "[encoded data removed]",
      "text/plain": [
       "<Figure size 1080x576 with 1 Axes>"
      ]
     },
     "metadata": {},
     "output_type": "display_data"
    }
   ],
   "source": [
    "#necessário separar os dados no dataset para determinar os bins\n",
    "intervalo_pop = pd.cut(data['Population']/1000000, 8)\n",
    "sns.set(rc={'figure.figsize':(15,8)})\n",
    "ax = sns.countplot(x=intervalo_pop)\n",
    "ax.set_xlabel('Population (milhões)')\n",
    "ax.set_ylabel('Frequência')"
   ]
  },
  {
   "cell_type": "markdown",
   "id": "34462711",
   "metadata": {},
   "source": [
    "- Histograma: um gráfico de frequência com bins no eixo X e as contagens (ou algo proporcional) no eixo Y"
   ]
  },
  {
   "cell_type": "markdown",
   "id": "9836ebd9",
   "metadata": {
    "ExecuteTime": {
     "end_time": "2022-08-27T03:52:20.689453Z",
     "start_time": "2022-08-27T03:52:20.669463Z"
    }
   },
   "source": [
    "- Densidade: uma versão mais suave do histograma, com frequência baseado na Estimativa de Densidade Kernal"
   ]
  },
  {
   "cell_type": "code",
   "execution_count": 117,
   "id": "c6670da2",
   "metadata": {
    "ExecuteTime": {
     "end_time": "2022-08-27T04:23:08.005985Z",
     "start_time": "2022-08-27T04:23:07.684704Z"
    }
   },
   "outputs": [
    {
     "data": {
      "image/png": "[encoded data removed]",
      "text/plain": [
       "<Figure size 576x360 with 1 Axes>"
      ]
     },
     "metadata": {},
     "output_type": "display_data"
    }
   ],
   "source": [
    "#intervalo_pop = pd.cut(data['Murder.Rate'], 8)\n",
    "sns.set(rc={'figure.figsize':(8,5)})\n",
    "ax = sns.histplot(data['Murder.Rate'], binwidth=0.5, kde=True).set(title='Histograma e Estimativa de Densidade Kernal')"
   ]
  },
  {
   "cell_type": "code",
   "execution_count": null,
   "id": "9b73ad4b",
   "metadata": {},
   "outputs": [],
   "source": []
  }
 ],
 "metadata": {
  "hide_input": true,
  "kernelspec": {
   "display_name": "Python 3 (ipykernel)",
   "language": "python",
   "name": "python3"
  },
  "language_info": {
   "codemirror_mode": {
    "name": "ipython",
    "version": 3
   },
   "file_extension": ".py",
   "mimetype": "text/x-python",
   "name": "python",
   "nbconvert_exporter": "python",
   "pygments_lexer": "ipython3",
   "version": "3.9.12"
  },
  "varInspector": {
   "cols": {
    "lenName": 16,
    "lenType": 16,
    "lenVar": 40
   },
   "kernels_config": {
    "python": {
     "delete_cmd_postfix": "",
     "delete_cmd_prefix": "del ",
     "library": "var_list.py",
     "varRefreshCmd": "print(var_dic_list())"
    },
    "r": {
     "delete_cmd_postfix": ") ",
     "delete_cmd_prefix": "rm(",
     "library": "var_list.r",
     "varRefreshCmd": "cat(var_dic_list()) "
    }
   },
   "types_to_exclude": [
    "module",
    "function",
    "builtin_function_or_method",
    "instance",
    "_Feature"
   ],
   "window_display": false
  }
 },
 "nbformat": 4,
 "nbformat_minor": 5
}
